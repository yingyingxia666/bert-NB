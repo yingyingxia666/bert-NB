{
 "cells": [
  {
   "cell_type": "code",
   "execution_count": null,
   "metadata": {},
   "outputs": [],
   "source": [
    "import jieba\n",
    "tokenizer=jieba.lcut_for_search\n",
    "s=\"是训练集的词向量(100维的),验证集如果涉及到的词不在里面就随机初始化一个100维的向量吧\"\n",
    "result=tokenizer(s)\n",
    "result"
   ]
  },
  {
   "cell_type": "code",
   "execution_count": null,
   "metadata": {},
   "outputs": [],
   "source": [
    "from torchtext.vocab import vocab\n",
    "from collections import Counter, OrderedDict\n",
    "counter = Counter([\"a\", \"a\", \"b\", \"b\", \"b\"])\n",
    "sorted_by_freq_tuples = sorted(counter.items(), key=lambda x: x[1], reverse=True)\n",
    "ordered_dict = OrderedDict(sorted_by_freq_tuples)\n",
    "v1 = vocab(ordered_dict)\n",
    "print(v1['a']) #prints 1\n",
    "print(v1['out of vocab']) #raise RuntimeError since default index is not set\n",
    "\n",
    "# #make default index same as index of unk_token\n",
    "# v2.set_default_index(v2[unk_token])\n",
    "# v2['out of vocab'] is v2[unk_token] #prints True\n"
   ]
  },
  {
   "cell_type": "code",
   "execution_count": 48,
   "metadata": {},
   "outputs": [
    {
     "name": "stdout",
     "output_type": "stream",
     "text": [
      "0\n",
      "-1\n"
     ]
    }
   ],
   "source": [
    "tokens = ['e', 'd', 'c', 'b', 'a']\n",
    "# #adding <unk> token and default index\n",
    "unk_token = '<unk>'\n",
    "default_index = -1\n",
    "v2 = vocab(OrderedDict([(token, 1) for token in tokens]), specials=[unk_token])\n",
    "v2.set_default_index(default_index)\n",
    "print(v2['<unk>']) #prints 0\n",
    "print(v2['out of vocab']) #prints -1"
   ]
  },
  {
   "cell_type": "code",
   "execution_count": null,
   "metadata": {},
   "outputs": [],
   "source": []
  }
 ],
 "metadata": {
  "kernelspec": {
   "display_name": "Python 3.7.13 ('pytorch3.7')",
   "language": "python",
   "name": "python3"
  },
  "language_info": {
   "codemirror_mode": {
    "name": "ipython",
    "version": 3
   },
   "file_extension": ".py",
   "mimetype": "text/x-python",
   "name": "python",
   "nbconvert_exporter": "python",
   "pygments_lexer": "ipython3",
   "version": "3.7.13"
  },
  "orig_nbformat": 4,
  "vscode": {
   "interpreter": {
    "hash": "241fbc6c0e1c7b58ce12e8ebebe915fa7a2b801914e6760d6d3db90fe39d50f5"
   }
  }
 },
 "nbformat": 4,
 "nbformat_minor": 2
}
