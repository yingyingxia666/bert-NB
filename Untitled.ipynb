{
 "cells": [
  {
   "cell_type": "code",
   "execution_count": 1,
   "id": "a089ebb5-7583-4102-ab83-08efb87251d1",
   "metadata": {},
   "outputs": [],
   "source": [
    "import os\n",
    "import torch\n",
    "from transformers import (\n",
    "        get_linear_schedule_with_warmup,\n",
    "        BertTokenizer,\n",
    "        AdamW,\n",
    "        AutoModelForSequenceClassification,\n",
    "        BertForSequenceClassification,\n",
    "        BertModel,\n",
    "        AutoConfig\n",
    "        )\n",
    "from torch.utils.data import DataLoader,dataset\n",
    "import time\n",
    "import numpy as np\n",
    "from sklearn import metrics\n",
    "from datetime import timedelta"
   ]
  },
  {
   "cell_type": "code",
   "execution_count": 2,
   "id": "39afb372-078a-4619-83ec-bb24010a8c73",
   "metadata": {},
   "outputs": [],
   "source": [
    "data_dir='data'\n",
    "def read_file(path):\n",
    "    with open(path, 'r', encoding=\"UTF-8\") as file:\n",
    "        docus = file.readlines()\n",
    "        newDocus = []\n",
    "        for data in docus:\n",
    "            newDocus.append(data)\n",
    "    return newDocus\n",
    "#建立数据集 \n",
    "class Label_Dataset(dataset.Dataset):\n",
    "    def __init__(self,data):\n",
    "        self.data = data\n",
    "    def __len__(self):#返回数据长度\n",
    "        return len(self.data)\n",
    "    def __getitem__(self,ind):\n",
    "        onetext = self.data[ind]\n",
    "        label, content = onetext.split('\\t',1)\n",
    "        label = torch.LongTensor([int(float(label))])\n",
    "        return content,label\n",
    "def get_time_dif(start_time):\n",
    "    \"\"\"获取已使用时间\"\"\"\n",
    "    end_time = time.time()\n",
    "    time_dif = end_time - start_time\n",
    "    return timedelta(seconds=int(round(time_dif)))"
   ]
  },
  {
   "cell_type": "code",
   "execution_count": 3,
   "id": "cf9ba635-2134-4ccf-864b-054f07520010",
   "metadata": {},
   "outputs": [],
   "source": [
    "testContent = read_file(os.path.join(data_dir, \"test1.csv\"))\n",
    "testdataset =Label_Dataset( testContent )\n",
    "testdataloder = DataLoader(testdataset, batch_size=1, shuffle = False)"
   ]
  },
  {
   "cell_type": "code",
   "execution_count": 42,
   "id": "2b6ad4bd-5269-47be-917b-11efbcc21988",
   "metadata": {},
   "outputs": [
    {
     "name": "stderr",
     "output_type": "stream",
     "text": [
      "Some weights of the model checkpoint at bert/bert-base-chinese were not used when initializing BertForSequenceClassification: ['cls.predictions.transform.LayerNorm.bias', 'cls.predictions.transform.LayerNorm.weight', 'cls.seq_relationship.bias', 'cls.predictions.bias', 'cls.predictions.transform.dense.weight', 'cls.predictions.decoder.weight', 'cls.predictions.transform.dense.bias', 'cls.seq_relationship.weight']\n",
      "- This IS expected if you are initializing BertForSequenceClassification from the checkpoint of a model trained on another task or with another architecture (e.g. initializing a BertForSequenceClassification model from a BertForPreTraining model).\n",
      "- This IS NOT expected if you are initializing BertForSequenceClassification from the checkpoint of a model that you expect to be exactly identical (initializing a BertForSequenceClassification model from a BertForSequenceClassification model).\n",
      "Some weights of BertForSequenceClassification were not initialized from the model checkpoint at bert/bert-base-chinese and are newly initialized: ['classifier.bias', 'classifier.weight']\n",
      "You should probably TRAIN this model on a down-stream task to be able to use it for predictions and inference.\n"
     ]
    }
   ],
   "source": [
    "pretrained_weights = 'bert/bert-base-chinese'#建立模型\n",
    "savedir = './train_model/'\n",
    "tokenizer = BertTokenizer.from_pretrained(pretrained_weights,padding=True)\n",
    "config = AutoConfig.from_pretrained(pretrained_weights ,num_labels=2) \n",
    "#单独指定config，在config中指定分类个数\n",
    "nlp_classif = AutoModelForSequenceClassification.from_pretrained(pretrained_weights ,config=config)\n",
    "device = torch.device(\"cuda:0\" if torch.cuda.is_available() else \"cpu\")\n",
    "nlp_classif = nlp_classif.to(device)\n"
   ]
  },
  {
   "cell_type": "code",
   "execution_count": 52,
   "id": "ef52a02a-f0a5-4b92-8fb2-bc402274f964",
   "metadata": {},
   "outputs": [],
   "source": [
    "config = AutoConfig.from_pretrained(savedir,num_labels=2) \n",
    "# nlp_classif = AutoModelForSequenceClassification.from_pretrained(savedir,config=config).to(device)\n",
    "with torch.no_grad():\n",
    "    inputs = tokenizer(\"肥婆小吃在惠州有两家店，前段时间去吃过一次，就一个感觉：“涨价了”。味道相对于价格就觉得差了一些，或许它于其他海鲜店的价格没有拉开\", return_tensors=\"pt\").to(device)\n",
    "    labels = torch.tensor([0]).unsqueeze(0).to(device)  # Batch size 1\n",
    "    outputs = nlp_classif(**inputs, labels=labels)\n",
    "    loss = outputs.loss\n",
    "    logits = outputs.logits"
   ]
  },
  {
   "cell_type": "code",
   "execution_count": 53,
   "id": "e088aae8-ac5a-40b0-b243-aaaa65b6a445",
   "metadata": {},
   "outputs": [
    {
     "data": {
      "text/plain": [
       "tensor(1.1570, device='cuda:0')"
      ]
     },
     "execution_count": 53,
     "metadata": {},
     "output_type": "execute_result"
    }
   ],
   "source": [
    "loss"
   ]
  },
  {
   "cell_type": "code",
   "execution_count": 54,
   "id": "6486c9c2-2649-4f50-97ca-2dae34f6b7e7",
   "metadata": {},
   "outputs": [
    {
     "data": {
      "text/plain": [
       "tensor([[-0.3062,  0.4733]], device='cuda:0')"
      ]
     },
     "execution_count": 54,
     "metadata": {},
     "output_type": "execute_result"
    }
   ],
   "source": [
    "logits"
   ]
  },
  {
   "cell_type": "code",
   "execution_count": null,
   "id": "258963e8-8509-4cd6-83e5-b0dd2273c493",
   "metadata": {},
   "outputs": [],
   "source": []
  }
 ],
 "metadata": {
  "kernelspec": {
   "display_name": "Python 3.9.7 64-bit",
   "language": "python",
   "name": "python3"
  },
  "language_info": {
   "codemirror_mode": {
    "name": "ipython",
    "version": 3
   },
   "file_extension": ".py",
   "mimetype": "text/x-python",
   "name": "python",
   "nbconvert_exporter": "python",
   "pygments_lexer": "ipython3",
   "version": "3.9.7"
  },
  "vscode": {
   "interpreter": {
    "hash": "f22a20af907fde35ff19e1e892fdb271353fb19b11c7ebd774491472e685293c"
   }
  }
 },
 "nbformat": 4,
 "nbformat_minor": 5
}
